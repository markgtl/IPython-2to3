{
 "metadata": {
  "name": "More hacking with PyMC"
 },
 "nbformat": 3,
 "nbformat_minor": 0,
   "metadata": {}
  }
 ]
}